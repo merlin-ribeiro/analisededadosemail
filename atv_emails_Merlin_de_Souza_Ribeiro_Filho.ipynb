{
  "cells": [
    {
      "cell_type": "markdown",
      "metadata": {
        "id": "view-in-github",
        "colab_type": "text"
      },
      "source": [
        "<a href=\"https://colab.research.google.com/github/merlin-ribeiro/analisededadosemail/blob/main/atv_emails_Merlin_de_Souza_Ribeiro_Filho.ipynb\" target=\"_parent\"><img src=\"https://colab.research.google.com/assets/colab-badge.svg\" alt=\"Open In Colab\"/></a>"
      ]
    },
    {
      "cell_type": "markdown",
      "source": [
        "### <center> Instituto Federal de Educação, Ciência e Tecnologia da Paraíba - IFPB</center>\n",
        "<center>Estatística Aplicada à Computação</center>\n",
        "<center>Prof. Paulo Ribeiro</center>\n",
        "<center>Mini-Projeto: Análise Exploratória do Email Pessoal</center>\n",
        "<center>Merlin de Souza Ribeiro Filho</center>"
      ],
      "metadata": {
        "id": "2q-wc1omlifr"
      }
    },
    {
      "cell_type": "markdown",
      "source": [
        "*Baseado no código do capítulo 3 do livro \"Hands on Exploratory Data Analysis with Python\", com os códigos disponíveis no [github](https://github.com/PacktPublishing/Hands-on-Exploratory-Data-Analysis-with-Python)*.\n",
        "\n",
        "Objetivo: extrair e pre-processar dados do email pessoal do gmail, para responder perguntas sobre os dados obtidos"
      ],
      "metadata": {
        "id": "gvORvAwJlsMV"
      }
    },
    {
      "cell_type": "markdown",
      "metadata": {
        "id": "h5Q-PJ5f7z_B"
      },
      "source": [
        "#### __Pré-processando o conjunto de dados__\n",
        "\n",
        "Vamos começar carregando as bibliotecas que nós comumente usamos."
      ]
    },
    {
      "cell_type": "code",
      "execution_count": 37,
      "metadata": {
        "id": "-NFAjR047z_C"
      },
      "outputs": [],
      "source": [
        "import pandas as pd\n",
        "import mailbox\n",
        "import numpy as np"
      ]
    },
    {
      "cell_type": "code",
      "execution_count": 38,
      "metadata": {
        "colab": {
          "base_uri": "https://localhost:8080/"
        },
        "id": "V-2jXsxmWVjo",
        "outputId": "ada8b183-b43e-4756-d186-54bfc14c70f4"
      },
      "outputs": [
        {
          "output_type": "stream",
          "name": "stdout",
          "text": [
            "Drive already mounted at /content/drive; to attempt to forcibly remount, call drive.mount(\"/content/drive\", force_remount=True).\n"
          ]
        }
      ],
      "source": [
        "from google.colab import drive\n",
        "drive.mount('/content/drive')"
      ]
    },
    {
      "cell_type": "markdown",
      "metadata": {
        "id": "El1Bh0T97z_E"
      },
      "source": [
        "A biblioteca `mailbox` permite acessar e manipular diferentes tipos de formatação de emails e outros dados oriundos de mensagens na internet e nos será útil para processarmos os dados do arquivo `mbox` que foi baixado. Para mais informações, veja a [documentação](https://docs.python.org/pt-br/3/library/mailbox.html).\n",
        "\n",
        "Para carregar os dados, basta fazer"
      ]
    },
    {
      "cell_type": "code",
      "execution_count": 39,
      "metadata": {
        "colab": {
          "base_uri": "https://localhost:8080/"
        },
        "id": "YFw7IoQS7z_F",
        "outputId": "186ed060-e42c-41ee-f6bd-ec9634dce171"
      },
      "outputs": [
        {
          "output_type": "execute_result",
          "data": {
            "text/plain": [
              "<mailbox.mbox at 0x7a0f22a69d80>"
            ]
          },
          "metadata": {},
          "execution_count": 39
        }
      ],
      "source": [
        "mbox = mailbox.mbox('/content/drive/MyDrive/Takeout/Caixa de entrada.mbox') # emails.mbox é o nome que eu dei ao meu arquivo...\n",
        "mbox"
      ]
    },
    {
      "cell_type": "markdown",
      "metadata": {
        "id": "V8v4ZS2v7z_G"
      },
      "source": [
        "O arquivo com formato .mbox lembra um dicionário. Dessa forma, podemos verificar as chaves existentes nesse dicionário fazendo"
      ]
    },
    {
      "cell_type": "code",
      "execution_count": 40,
      "metadata": {
        "id": "CIMinf0d7z_H",
        "colab": {
          "base_uri": "https://localhost:8080/"
        },
        "outputId": "8f6279c8-c786-44fd-e892-5d2c257fd1e5"
      },
      "outputs": [
        {
          "output_type": "stream",
          "name": "stdout",
          "text": [
            "X-GM-THRID\n",
            "X-Gmail-Labels\n",
            "Delivered-To\n",
            "Received\n",
            "X-Google-Smtp-Source\n",
            "X-Received\n",
            "ARC-Seal\n",
            "ARC-Message-Signature\n",
            "ARC-Authentication-Results\n",
            "Return-Path\n",
            "Received\n",
            "Received-SPF\n",
            "Authentication-Results\n",
            "Message-ID\n",
            "X-Google-Original-Message-ID\n",
            "X-AliDM-RcptTo\n",
            "Feedback-ID\n",
            "DKIM-Signature\n",
            "Received\n",
            "Date\n",
            "From\n",
            "Return-Path\n",
            "To\n",
            "Subject\n",
            "X-Priority\n",
            "X-Mailer\n",
            "MIME-Version\n",
            "X-EnvId\n",
            "X-AliDM-Trace\n",
            "Content-Type\n",
            "Content-Transfer-Encoding\n"
          ]
        }
      ],
      "source": [
        "for chaves in mbox[0]: print(chaves)"
      ]
    },
    {
      "cell_type": "markdown",
      "metadata": {
        "id": "mzEGnu397z_I"
      },
      "source": [
        "Cada chave dessa está relacionada a uma variável armazenada no conjunto de dados. Embora haja muitos objetos retornados pelos dados extraídos, não precisamos de todos os itens. Vamos extrair apenas os campos obrigatórios. A limpeza de dados é uma das etapas essenciais na fase de análise de dados. Para nossa análise, tudo que precisamos são dados para o seguinte: _subject_, _from_, _date_, _to_, _label_, e _thread_.\n",
        "\n",
        "Para fazer essa limpeza, vamos criar um um arquivo csv com adaptações para que consigamos ler o arquivo em um dataframe e realizar nossos trabalhos."
      ]
    },
    {
      "cell_type": "code",
      "execution_count": 41,
      "metadata": {
        "id": "BLp4Zo4P7z_J"
      },
      "outputs": [],
      "source": [
        "import csv\n",
        "\n",
        "with open('emails.csv', 'w') as outputfile:\n",
        "  writer = csv.writer(outputfile)\n",
        "  writer.writerow(['subject','from','date','to',\n",
        "                   'label','thread'])\n",
        "\n",
        "  for message in mbox:\n",
        "    writer.writerow([message['subject'], message['from'],\n",
        "                     message['date'], message['to'],\n",
        "                     message['X-Gmail-Labels'], message['X-GM-THRID']])"
      ]
    },
    {
      "cell_type": "markdown",
      "metadata": {
        "id": "KaHwLMJH7z_K"
      },
      "source": [
        "E agora podemos abrir o arquivo csv em um dataframe Pandas, contendo somente os campos que nos interessam."
      ]
    },
    {
      "cell_type": "code",
      "execution_count": 42,
      "metadata": {
        "id": "0DIRdYzy7z_L"
      },
      "outputs": [],
      "source": [
        "df = pd.read_csv('emails.csv')"
      ]
    },
    {
      "cell_type": "code",
      "execution_count": 43,
      "metadata": {
        "id": "2AJqFQl17z_M",
        "colab": {
          "base_uri": "https://localhost:8080/",
          "height": 1000
        },
        "outputId": "dac26127-0bef-47d8-bec4-580097357578"
      },
      "outputs": [
        {
          "output_type": "execute_result",
          "data": {
            "text/plain": [
              "                                               subject  \\\n",
              "0    =?UTF-8?B?Q29tIGdyYW5kZSBhdW1lbnRvIGRlIHRheGEg...   \n",
              "1    =?UTF-8?Q?Daniel_Marques_Vasconcelos_Guimar=C3...   \n",
              "2                              Novo material: \"Slides\"   \n",
              "3    =?UTF-8?B?Tm92byBjb211bmljYWRvOiAiUGVzc29hbCwg...   \n",
              "4    =?UTF-8?B?UGFyYWLDqW5z?= por ter criado 5 desi...   \n",
              "..                                                 ...   \n",
              "578                        Welcome to GoTranscript.com   \n",
              "579  =?utf-8?B?UHJvZ3JhbWUgc2V1cyBwYWdhbWVudG9zIGUg...   \n",
              "580                                Mural da Autoestima   \n",
              "581                        Pagamento realizado via Pix   \n",
              "582  =?UTF-8?B?Tm92byBjb211bmljYWRvOiAiQm9tIGRpYS4K...   \n",
              "\n",
              "                                                  from  \\\n",
              "0    \"P.A.I.M.O.N\" <noreply.news@e-mail.hoyoverse.com>   \n",
              "1    \"=?UTF-8?Q?Daniel_Marques_Vasconcelos_Gu?= =?U...   \n",
              "2    \"=?UTF-8?Q?Mary_Karlla_Ara=C3=BAjo_Guimar?= =?...   \n",
              "3    \"=?UTF-8?Q?Daniel_Marques_Vasconcelos_Gu?= =?U...   \n",
              "4                       Canva <start@engage.canva.com>   \n",
              "..                                                 ...   \n",
              "578                           support@gotranscript.com   \n",
              "579                \"PicPay\" <marketing@mkt.picpay.com>   \n",
              "580             Suap <nao-responder@email.ifpb.edu.br>   \n",
              "581                       PicPay <no-reply@picpay.com>   \n",
              "582  \"=?UTF-8?Q?Elias_Ant=C3=B4nio_Freire_=28Google...   \n",
              "\n",
              "                                      date  \\\n",
              "0          Fri, 04 Nov 2022 02:37:18 +0800   \n",
              "1          Sat, 24 Sep 2022 07:02:08 -0700   \n",
              "2          Tue, 27 Sep 2022 15:43:26 -0700   \n",
              "3          Tue, 27 Sep 2022 05:25:05 -0700   \n",
              "4    Sun, 25 Sep 2022 03:42:41 +0000 (UTC)   \n",
              "..                                     ...   \n",
              "578        Thu, 22 Sep 2022 01:27:32 +0000   \n",
              "579        Tue, 06 Sep 2022 17:53:46 +0000   \n",
              "580        Tue, 02 Aug 2022 00:17:12 -0000   \n",
              "581  Wed, 10 Aug 2022 17:32:21 +0000 (UTC)   \n",
              "582        Fri, 03 Jun 2022 06:38:52 -0700   \n",
              "\n",
              "                                                    to  \\\n",
              "0                <ribeiro.filho@academico.ifpb.edu.br>   \n",
              "1                  ribeiro.filho@academico.ifpb.edu.br   \n",
              "2                  ribeiro.filho@academico.ifpb.edu.br   \n",
              "3                  ribeiro.filho@academico.ifpb.edu.br   \n",
              "4                  ribeiro.filho@academico.ifpb.edu.br   \n",
              "..                                                 ...   \n",
              "578  Merlin de Souza Ribeiro Filho <ribeiro.filho@a...   \n",
              "579                ribeiro.filho@academico.ifpb.edu.br   \n",
              "580                        icaro.rodrigues@ifpb.edu.br   \n",
              "581                ribeiro.filho@academico.ifpb.edu.br   \n",
              "582                ribeiro.filho@academico.ifpb.edu.br   \n",
              "\n",
              "                                                 label               thread  \n",
              "0    =?UTF-8?Q?Caixa_de_entrada,Categoria:_promo=C3...  1748501176939928099  \n",
              "1    =?UTF-8?Q?Caixa_de_entrada,Categori?=\\r\\n =?UT...  1744859959243853763  \n",
              "2    =?UTF-8?Q?Caixa_de_entrada,Categori?=\\r\\n =?UT...  1745164546971579175  \n",
              "3    =?UTF-8?Q?Caixa_de_entrada,Categori?=\\r\\n =?UT...  1745125645625454580  \n",
              "4    =?UTF-8?Q?Caixa_de_entrada,Categoria:_promo=C3...  1744911585274752138  \n",
              "..                                                 ...                  ...  \n",
              "578  =?UTF-8?Q?Caixa_de_entrada,Categori?=\\r\\n =?UT...  1744631290974716868  \n",
              "579  =?UTF-8?Q?Caixa_de_entrada,Categori?=\\r\\n =?UT...  1743243787711959313  \n",
              "580  =?UTF-8?Q?Caixa_de_entrada,Categori?=\\r\\n =?UT...  1740006428597910591  \n",
              "581  =?UTF-8?Q?Caixa_de_entrada,Categori?=\\r\\n =?UT...  1740796322770071509  \n",
              "582  =?UTF-8?Q?Caixa_de_entrada,Categori?=\\r\\n =?UT...  1734621038961863917  \n",
              "\n",
              "[583 rows x 6 columns]"
            ],
            "text/html": [
              "\n",
              "  <div id=\"df-f8e079f3-b033-481a-9075-bc7151ee8fcd\" class=\"colab-df-container\">\n",
              "    <div>\n",
              "<style scoped>\n",
              "    .dataframe tbody tr th:only-of-type {\n",
              "        vertical-align: middle;\n",
              "    }\n",
              "\n",
              "    .dataframe tbody tr th {\n",
              "        vertical-align: top;\n",
              "    }\n",
              "\n",
              "    .dataframe thead th {\n",
              "        text-align: right;\n",
              "    }\n",
              "</style>\n",
              "<table border=\"1\" class=\"dataframe\">\n",
              "  <thead>\n",
              "    <tr style=\"text-align: right;\">\n",
              "      <th></th>\n",
              "      <th>subject</th>\n",
              "      <th>from</th>\n",
              "      <th>date</th>\n",
              "      <th>to</th>\n",
              "      <th>label</th>\n",
              "      <th>thread</th>\n",
              "    </tr>\n",
              "  </thead>\n",
              "  <tbody>\n",
              "    <tr>\n",
              "      <th>0</th>\n",
              "      <td>=?UTF-8?B?Q29tIGdyYW5kZSBhdW1lbnRvIGRlIHRheGEg...</td>\n",
              "      <td>\"P.A.I.M.O.N\" &lt;noreply.news@e-mail.hoyoverse.com&gt;</td>\n",
              "      <td>Fri, 04 Nov 2022 02:37:18 +0800</td>\n",
              "      <td>&lt;ribeiro.filho@academico.ifpb.edu.br&gt;</td>\n",
              "      <td>=?UTF-8?Q?Caixa_de_entrada,Categoria:_promo=C3...</td>\n",
              "      <td>1748501176939928099</td>\n",
              "    </tr>\n",
              "    <tr>\n",
              "      <th>1</th>\n",
              "      <td>=?UTF-8?Q?Daniel_Marques_Vasconcelos_Guimar=C3...</td>\n",
              "      <td>\"=?UTF-8?Q?Daniel_Marques_Vasconcelos_Gu?= =?U...</td>\n",
              "      <td>Sat, 24 Sep 2022 07:02:08 -0700</td>\n",
              "      <td>ribeiro.filho@academico.ifpb.edu.br</td>\n",
              "      <td>=?UTF-8?Q?Caixa_de_entrada,Categori?=\\r\\n =?UT...</td>\n",
              "      <td>1744859959243853763</td>\n",
              "    </tr>\n",
              "    <tr>\n",
              "      <th>2</th>\n",
              "      <td>Novo material: \"Slides\"</td>\n",
              "      <td>\"=?UTF-8?Q?Mary_Karlla_Ara=C3=BAjo_Guimar?= =?...</td>\n",
              "      <td>Tue, 27 Sep 2022 15:43:26 -0700</td>\n",
              "      <td>ribeiro.filho@academico.ifpb.edu.br</td>\n",
              "      <td>=?UTF-8?Q?Caixa_de_entrada,Categori?=\\r\\n =?UT...</td>\n",
              "      <td>1745164546971579175</td>\n",
              "    </tr>\n",
              "    <tr>\n",
              "      <th>3</th>\n",
              "      <td>=?UTF-8?B?Tm92byBjb211bmljYWRvOiAiUGVzc29hbCwg...</td>\n",
              "      <td>\"=?UTF-8?Q?Daniel_Marques_Vasconcelos_Gu?= =?U...</td>\n",
              "      <td>Tue, 27 Sep 2022 05:25:05 -0700</td>\n",
              "      <td>ribeiro.filho@academico.ifpb.edu.br</td>\n",
              "      <td>=?UTF-8?Q?Caixa_de_entrada,Categori?=\\r\\n =?UT...</td>\n",
              "      <td>1745125645625454580</td>\n",
              "    </tr>\n",
              "    <tr>\n",
              "      <th>4</th>\n",
              "      <td>=?UTF-8?B?UGFyYWLDqW5z?= por ter criado 5 desi...</td>\n",
              "      <td>Canva &lt;start@engage.canva.com&gt;</td>\n",
              "      <td>Sun, 25 Sep 2022 03:42:41 +0000 (UTC)</td>\n",
              "      <td>ribeiro.filho@academico.ifpb.edu.br</td>\n",
              "      <td>=?UTF-8?Q?Caixa_de_entrada,Categoria:_promo=C3...</td>\n",
              "      <td>1744911585274752138</td>\n",
              "    </tr>\n",
              "    <tr>\n",
              "      <th>...</th>\n",
              "      <td>...</td>\n",
              "      <td>...</td>\n",
              "      <td>...</td>\n",
              "      <td>...</td>\n",
              "      <td>...</td>\n",
              "      <td>...</td>\n",
              "    </tr>\n",
              "    <tr>\n",
              "      <th>578</th>\n",
              "      <td>Welcome to GoTranscript.com</td>\n",
              "      <td>support@gotranscript.com</td>\n",
              "      <td>Thu, 22 Sep 2022 01:27:32 +0000</td>\n",
              "      <td>Merlin de Souza Ribeiro Filho &lt;ribeiro.filho@a...</td>\n",
              "      <td>=?UTF-8?Q?Caixa_de_entrada,Categori?=\\r\\n =?UT...</td>\n",
              "      <td>1744631290974716868</td>\n",
              "    </tr>\n",
              "    <tr>\n",
              "      <th>579</th>\n",
              "      <td>=?utf-8?B?UHJvZ3JhbWUgc2V1cyBwYWdhbWVudG9zIGUg...</td>\n",
              "      <td>\"PicPay\" &lt;marketing@mkt.picpay.com&gt;</td>\n",
              "      <td>Tue, 06 Sep 2022 17:53:46 +0000</td>\n",
              "      <td>ribeiro.filho@academico.ifpb.edu.br</td>\n",
              "      <td>=?UTF-8?Q?Caixa_de_entrada,Categori?=\\r\\n =?UT...</td>\n",
              "      <td>1743243787711959313</td>\n",
              "    </tr>\n",
              "    <tr>\n",
              "      <th>580</th>\n",
              "      <td>Mural da Autoestima</td>\n",
              "      <td>Suap &lt;nao-responder@email.ifpb.edu.br&gt;</td>\n",
              "      <td>Tue, 02 Aug 2022 00:17:12 -0000</td>\n",
              "      <td>icaro.rodrigues@ifpb.edu.br</td>\n",
              "      <td>=?UTF-8?Q?Caixa_de_entrada,Categori?=\\r\\n =?UT...</td>\n",
              "      <td>1740006428597910591</td>\n",
              "    </tr>\n",
              "    <tr>\n",
              "      <th>581</th>\n",
              "      <td>Pagamento realizado via Pix</td>\n",
              "      <td>PicPay &lt;no-reply@picpay.com&gt;</td>\n",
              "      <td>Wed, 10 Aug 2022 17:32:21 +0000 (UTC)</td>\n",
              "      <td>ribeiro.filho@academico.ifpb.edu.br</td>\n",
              "      <td>=?UTF-8?Q?Caixa_de_entrada,Categori?=\\r\\n =?UT...</td>\n",
              "      <td>1740796322770071509</td>\n",
              "    </tr>\n",
              "    <tr>\n",
              "      <th>582</th>\n",
              "      <td>=?UTF-8?B?Tm92byBjb211bmljYWRvOiAiQm9tIGRpYS4K...</td>\n",
              "      <td>\"=?UTF-8?Q?Elias_Ant=C3=B4nio_Freire_=28Google...</td>\n",
              "      <td>Fri, 03 Jun 2022 06:38:52 -0700</td>\n",
              "      <td>ribeiro.filho@academico.ifpb.edu.br</td>\n",
              "      <td>=?UTF-8?Q?Caixa_de_entrada,Categori?=\\r\\n =?UT...</td>\n",
              "      <td>1734621038961863917</td>\n",
              "    </tr>\n",
              "  </tbody>\n",
              "</table>\n",
              "<p>583 rows × 6 columns</p>\n",
              "</div>\n",
              "    <div class=\"colab-df-buttons\">\n",
              "\n",
              "  <div class=\"colab-df-container\">\n",
              "    <button class=\"colab-df-convert\" onclick=\"convertToInteractive('df-f8e079f3-b033-481a-9075-bc7151ee8fcd')\"\n",
              "            title=\"Convert this dataframe to an interactive table.\"\n",
              "            style=\"display:none;\">\n",
              "\n",
              "  <svg xmlns=\"http://www.w3.org/2000/svg\" height=\"24px\" viewBox=\"0 -960 960 960\">\n",
              "    <path d=\"M120-120v-720h720v720H120Zm60-500h600v-160H180v160Zm220 220h160v-160H400v160Zm0 220h160v-160H400v160ZM180-400h160v-160H180v160Zm440 0h160v-160H620v160ZM180-180h160v-160H180v160Zm440 0h160v-160H620v160Z\"/>\n",
              "  </svg>\n",
              "    </button>\n",
              "\n",
              "  <style>\n",
              "    .colab-df-container {\n",
              "      display:flex;\n",
              "      gap: 12px;\n",
              "    }\n",
              "\n",
              "    .colab-df-convert {\n",
              "      background-color: #E8F0FE;\n",
              "      border: none;\n",
              "      border-radius: 50%;\n",
              "      cursor: pointer;\n",
              "      display: none;\n",
              "      fill: #1967D2;\n",
              "      height: 32px;\n",
              "      padding: 0 0 0 0;\n",
              "      width: 32px;\n",
              "    }\n",
              "\n",
              "    .colab-df-convert:hover {\n",
              "      background-color: #E2EBFA;\n",
              "      box-shadow: 0px 1px 2px rgba(60, 64, 67, 0.3), 0px 1px 3px 1px rgba(60, 64, 67, 0.15);\n",
              "      fill: #174EA6;\n",
              "    }\n",
              "\n",
              "    .colab-df-buttons div {\n",
              "      margin-bottom: 4px;\n",
              "    }\n",
              "\n",
              "    [theme=dark] .colab-df-convert {\n",
              "      background-color: #3B4455;\n",
              "      fill: #D2E3FC;\n",
              "    }\n",
              "\n",
              "    [theme=dark] .colab-df-convert:hover {\n",
              "      background-color: #434B5C;\n",
              "      box-shadow: 0px 1px 3px 1px rgba(0, 0, 0, 0.15);\n",
              "      filter: drop-shadow(0px 1px 2px rgba(0, 0, 0, 0.3));\n",
              "      fill: #FFFFFF;\n",
              "    }\n",
              "  </style>\n",
              "\n",
              "    <script>\n",
              "      const buttonEl =\n",
              "        document.querySelector('#df-f8e079f3-b033-481a-9075-bc7151ee8fcd button.colab-df-convert');\n",
              "      buttonEl.style.display =\n",
              "        google.colab.kernel.accessAllowed ? 'block' : 'none';\n",
              "\n",
              "      async function convertToInteractive(key) {\n",
              "        const element = document.querySelector('#df-f8e079f3-b033-481a-9075-bc7151ee8fcd');\n",
              "        const dataTable =\n",
              "          await google.colab.kernel.invokeFunction('convertToInteractive',\n",
              "                                                    [key], {});\n",
              "        if (!dataTable) return;\n",
              "\n",
              "        const docLinkHtml = 'Like what you see? Visit the ' +\n",
              "          '<a target=\"_blank\" href=https://colab.research.google.com/notebooks/data_table.ipynb>data table notebook</a>'\n",
              "          + ' to learn more about interactive tables.';\n",
              "        element.innerHTML = '';\n",
              "        dataTable['output_type'] = 'display_data';\n",
              "        await google.colab.output.renderOutput(dataTable, element);\n",
              "        const docLink = document.createElement('div');\n",
              "        docLink.innerHTML = docLinkHtml;\n",
              "        element.appendChild(docLink);\n",
              "      }\n",
              "    </script>\n",
              "  </div>\n",
              "\n",
              "\n",
              "<div id=\"df-535dcb25-b730-44fb-9b48-6995df4791fb\">\n",
              "  <button class=\"colab-df-quickchart\" onclick=\"quickchart('df-535dcb25-b730-44fb-9b48-6995df4791fb')\"\n",
              "            title=\"Suggest charts.\"\n",
              "            style=\"display:none;\">\n",
              "\n",
              "<svg xmlns=\"http://www.w3.org/2000/svg\" height=\"24px\"viewBox=\"0 0 24 24\"\n",
              "     width=\"24px\">\n",
              "    <g>\n",
              "        <path d=\"M19 3H5c-1.1 0-2 .9-2 2v14c0 1.1.9 2 2 2h14c1.1 0 2-.9 2-2V5c0-1.1-.9-2-2-2zM9 17H7v-7h2v7zm4 0h-2V7h2v10zm4 0h-2v-4h2v4z\"/>\n",
              "    </g>\n",
              "</svg>\n",
              "  </button>\n",
              "\n",
              "<style>\n",
              "  .colab-df-quickchart {\n",
              "      --bg-color: #E8F0FE;\n",
              "      --fill-color: #1967D2;\n",
              "      --hover-bg-color: #E2EBFA;\n",
              "      --hover-fill-color: #174EA6;\n",
              "      --disabled-fill-color: #AAA;\n",
              "      --disabled-bg-color: #DDD;\n",
              "  }\n",
              "\n",
              "  [theme=dark] .colab-df-quickchart {\n",
              "      --bg-color: #3B4455;\n",
              "      --fill-color: #D2E3FC;\n",
              "      --hover-bg-color: #434B5C;\n",
              "      --hover-fill-color: #FFFFFF;\n",
              "      --disabled-bg-color: #3B4455;\n",
              "      --disabled-fill-color: #666;\n",
              "  }\n",
              "\n",
              "  .colab-df-quickchart {\n",
              "    background-color: var(--bg-color);\n",
              "    border: none;\n",
              "    border-radius: 50%;\n",
              "    cursor: pointer;\n",
              "    display: none;\n",
              "    fill: var(--fill-color);\n",
              "    height: 32px;\n",
              "    padding: 0;\n",
              "    width: 32px;\n",
              "  }\n",
              "\n",
              "  .colab-df-quickchart:hover {\n",
              "    background-color: var(--hover-bg-color);\n",
              "    box-shadow: 0 1px 2px rgba(60, 64, 67, 0.3), 0 1px 3px 1px rgba(60, 64, 67, 0.15);\n",
              "    fill: var(--button-hover-fill-color);\n",
              "  }\n",
              "\n",
              "  .colab-df-quickchart-complete:disabled,\n",
              "  .colab-df-quickchart-complete:disabled:hover {\n",
              "    background-color: var(--disabled-bg-color);\n",
              "    fill: var(--disabled-fill-color);\n",
              "    box-shadow: none;\n",
              "  }\n",
              "\n",
              "  .colab-df-spinner {\n",
              "    border: 2px solid var(--fill-color);\n",
              "    border-color: transparent;\n",
              "    border-bottom-color: var(--fill-color);\n",
              "    animation:\n",
              "      spin 1s steps(1) infinite;\n",
              "  }\n",
              "\n",
              "  @keyframes spin {\n",
              "    0% {\n",
              "      border-color: transparent;\n",
              "      border-bottom-color: var(--fill-color);\n",
              "      border-left-color: var(--fill-color);\n",
              "    }\n",
              "    20% {\n",
              "      border-color: transparent;\n",
              "      border-left-color: var(--fill-color);\n",
              "      border-top-color: var(--fill-color);\n",
              "    }\n",
              "    30% {\n",
              "      border-color: transparent;\n",
              "      border-left-color: var(--fill-color);\n",
              "      border-top-color: var(--fill-color);\n",
              "      border-right-color: var(--fill-color);\n",
              "    }\n",
              "    40% {\n",
              "      border-color: transparent;\n",
              "      border-right-color: var(--fill-color);\n",
              "      border-top-color: var(--fill-color);\n",
              "    }\n",
              "    60% {\n",
              "      border-color: transparent;\n",
              "      border-right-color: var(--fill-color);\n",
              "    }\n",
              "    80% {\n",
              "      border-color: transparent;\n",
              "      border-right-color: var(--fill-color);\n",
              "      border-bottom-color: var(--fill-color);\n",
              "    }\n",
              "    90% {\n",
              "      border-color: transparent;\n",
              "      border-bottom-color: var(--fill-color);\n",
              "    }\n",
              "  }\n",
              "</style>\n",
              "\n",
              "  <script>\n",
              "    async function quickchart(key) {\n",
              "      const quickchartButtonEl =\n",
              "        document.querySelector('#' + key + ' button');\n",
              "      quickchartButtonEl.disabled = true;  // To prevent multiple clicks.\n",
              "      quickchartButtonEl.classList.add('colab-df-spinner');\n",
              "      try {\n",
              "        const charts = await google.colab.kernel.invokeFunction(\n",
              "            'suggestCharts', [key], {});\n",
              "      } catch (error) {\n",
              "        console.error('Error during call to suggestCharts:', error);\n",
              "      }\n",
              "      quickchartButtonEl.classList.remove('colab-df-spinner');\n",
              "      quickchartButtonEl.classList.add('colab-df-quickchart-complete');\n",
              "    }\n",
              "    (() => {\n",
              "      let quickchartButtonEl =\n",
              "        document.querySelector('#df-535dcb25-b730-44fb-9b48-6995df4791fb button');\n",
              "      quickchartButtonEl.style.display =\n",
              "        google.colab.kernel.accessAllowed ? 'block' : 'none';\n",
              "    })();\n",
              "  </script>\n",
              "</div>\n",
              "    </div>\n",
              "  </div>\n"
            ]
          },
          "metadata": {},
          "execution_count": 43
        }
      ],
      "source": [
        "df"
      ]
    },
    {
      "cell_type": "markdown",
      "metadata": {
        "id": "CDoUURTK7z_N"
      },
      "source": [
        "Vamos analisar nosso dataframe."
      ]
    },
    {
      "cell_type": "code",
      "execution_count": 44,
      "metadata": {
        "id": "-7dr8HVA7z_N",
        "colab": {
          "base_uri": "https://localhost:8080/"
        },
        "outputId": "e1eaa0d8-cee1-467d-aa62-eed35abaa0ee"
      },
      "outputs": [
        {
          "output_type": "stream",
          "name": "stdout",
          "text": [
            "<class 'pandas.core.frame.DataFrame'>\n",
            "RangeIndex: 583 entries, 0 to 582\n",
            "Data columns (total 6 columns):\n",
            " #   Column   Non-Null Count  Dtype \n",
            "---  ------   --------------  ----- \n",
            " 0   subject  583 non-null    object\n",
            " 1   from     583 non-null    object\n",
            " 2   date     583 non-null    object\n",
            " 3   to       583 non-null    object\n",
            " 4   label    583 non-null    object\n",
            " 5   thread   583 non-null    int64 \n",
            "dtypes: int64(1), object(5)\n",
            "memory usage: 27.5+ KB\n"
          ]
        }
      ],
      "source": [
        "df.info()"
      ]
    },
    {
      "cell_type": "markdown",
      "metadata": {
        "id": "6IsHJUHh7z_O"
      },
      "source": [
        "Notemos que a variável `date` está assinalada como `object`, mas é uma data, e deveria ser do tipo `datetime`, que é como o Pandas aloca variáveis relacionadas a datas.\n",
        "\n",
        "Para fazer essa conversão, vamos usar a função `to_datetime` do Pandas, da seguinte forma:"
      ]
    },
    {
      "cell_type": "code",
      "execution_count": 45,
      "metadata": {
        "id": "NaTELhnS7z_P"
      },
      "outputs": [],
      "source": [
        "df['date'] = df['date'].apply(lambda x: pd.to_datetime(x,\n",
        "                                                       errors='coerce',\n",
        "                                                       utc=True))"
      ]
    },
    {
      "cell_type": "markdown",
      "metadata": {
        "id": "MsD-KHFD7z_Q"
      },
      "source": [
        "E fazendo uma nova inspeção, vemos"
      ]
    },
    {
      "cell_type": "code",
      "execution_count": 46,
      "metadata": {
        "id": "ckManMOf7z_Q",
        "colab": {
          "base_uri": "https://localhost:8080/"
        },
        "outputId": "0cf7ca5d-5861-43d4-b549-cc2c8290a726"
      },
      "outputs": [
        {
          "output_type": "stream",
          "name": "stdout",
          "text": [
            "<class 'pandas.core.frame.DataFrame'>\n",
            "RangeIndex: 583 entries, 0 to 582\n",
            "Data columns (total 6 columns):\n",
            " #   Column   Non-Null Count  Dtype              \n",
            "---  ------   --------------  -----              \n",
            " 0   subject  583 non-null    object             \n",
            " 1   from     583 non-null    object             \n",
            " 2   date     583 non-null    datetime64[ns, UTC]\n",
            " 3   to       583 non-null    object             \n",
            " 4   label    583 non-null    object             \n",
            " 5   thread   583 non-null    int64              \n",
            "dtypes: datetime64[ns, UTC](1), int64(1), object(4)\n",
            "memory usage: 27.5+ KB\n"
          ]
        }
      ],
      "source": [
        "df.info()"
      ]
    },
    {
      "cell_type": "markdown",
      "metadata": {
        "id": "hqyAJjIC7z_R"
      },
      "source": [
        "Por último, precisamos fazer alguns refatoramentos. Por exemplo, ao inspecionar a variável `from`, obtemos"
      ]
    },
    {
      "cell_type": "code",
      "execution_count": 47,
      "metadata": {
        "id": "j6E8DhJd7z_S",
        "colab": {
          "base_uri": "https://localhost:8080/"
        },
        "outputId": "224bc0b9-f4d5-446a-91cc-f36143d359dd"
      },
      "outputs": [
        {
          "output_type": "execute_result",
          "data": {
            "text/plain": [
              "0      \"P.A.I.M.O.N\" <noreply.news@e-mail.hoyoverse.com>\n",
              "1      \"=?UTF-8?Q?Daniel_Marques_Vasconcelos_Gu?= =?U...\n",
              "2      \"=?UTF-8?Q?Mary_Karlla_Ara=C3=BAjo_Guimar?= =?...\n",
              "3      \"=?UTF-8?Q?Daniel_Marques_Vasconcelos_Gu?= =?U...\n",
              "4                         Canva <start@engage.canva.com>\n",
              "                             ...                        \n",
              "578                             support@gotranscript.com\n",
              "579                  \"PicPay\" <marketing@mkt.picpay.com>\n",
              "580               Suap <nao-responder@email.ifpb.edu.br>\n",
              "581                         PicPay <no-reply@picpay.com>\n",
              "582    \"=?UTF-8?Q?Elias_Ant=C3=B4nio_Freire_=28Google...\n",
              "Name: from, Length: 583, dtype: object"
            ]
          },
          "metadata": {},
          "execution_count": 47
        }
      ],
      "source": [
        "df['from']"
      ]
    },
    {
      "cell_type": "markdown",
      "metadata": {
        "id": "4vD4d8Vb7z_T"
      },
      "source": [
        "e percebemos que não são alocados somente os emails de origem, mas algumas informações que não são necessariamente úteis para nós.\n",
        "\n",
        "O processo de \"limpar\" essa informação extra é chamada de refatoramento, e, para nosso caso, usaremos uma abordagem baseada em expressões regulares para essa tarefa, usando a biblioteca `re` do Python (se você não sabe o que é uma expressão regular, dá uma lida nesse [tutorial](https://realpython.com/regex-python/) e divirta-se!)."
      ]
    },
    {
      "cell_type": "code",
      "execution_count": 48,
      "metadata": {
        "id": "b8ZuR0OQ7z_U"
      },
      "outputs": [],
      "source": [
        "import re"
      ]
    },
    {
      "cell_type": "markdown",
      "metadata": {
        "id": "sk2hkUUJ7z_U"
      },
      "source": [
        "Vamos criar uma função que pega um string em qualquer coluna e extrai somente a parte do email existente nela:"
      ]
    },
    {
      "cell_type": "code",
      "execution_count": 49,
      "metadata": {
        "id": "QsTKK_P_7z_V"
      },
      "outputs": [],
      "source": [
        "def extracao_email(string):\n",
        "  email = re.findall(r'<(.+?)>', string) #aqui está a expressão regular\n",
        "  if not email:\n",
        "    email = list(filter(lambda y: '@' in y, string.split()))\n",
        "  return email[0] if email else np.nan #se tiver email, ok; senão, retorna nan."
      ]
    },
    {
      "cell_type": "markdown",
      "metadata": {
        "id": "3jVVor3p7z_W"
      },
      "source": [
        "Sugiro, caso não conheça todas as partes envolvidas nessa função, tentar buscar entender. Dá um belo exercício.\n",
        "\n",
        "Agora, basta aplicar a função a coluna `from`."
      ]
    },
    {
      "cell_type": "code",
      "execution_count": 50,
      "metadata": {
        "id": "HXsPll5R7z_W"
      },
      "outputs": [],
      "source": [
        "df['from'] = df['from'].apply(lambda x: extracao_email(x))"
      ]
    },
    {
      "cell_type": "markdown",
      "metadata": {
        "id": "kQfzqrEi7z_X"
      },
      "source": [
        "Inspecionando novamente, obtemos somente emails!"
      ]
    },
    {
      "cell_type": "code",
      "execution_count": 51,
      "metadata": {
        "id": "jZMTODkV7z_Y",
        "colab": {
          "base_uri": "https://localhost:8080/"
        },
        "outputId": "f163448a-03c2-4947-c23c-5031c0543bb0"
      },
      "outputs": [
        {
          "output_type": "execute_result",
          "data": {
            "text/plain": [
              "0           noreply.news@e-mail.hoyoverse.com\n",
              "1               no-reply@classroom.google.com\n",
              "2               no-reply@classroom.google.com\n",
              "3               no-reply@classroom.google.com\n",
              "4                      start@engage.canva.com\n",
              "                        ...                  \n",
              "578                  support@gotranscript.com\n",
              "579                  marketing@mkt.picpay.com\n",
              "580           nao-responder@email.ifpb.edu.br\n",
              "581                       no-reply@picpay.com\n",
              "582    no-reply+8dd2a56a@classroom.google.com\n",
              "Name: from, Length: 583, dtype: object"
            ]
          },
          "metadata": {},
          "execution_count": 51
        }
      ],
      "source": [
        "df['from']"
      ]
    },
    {
      "cell_type": "markdown",
      "metadata": {
        "id": "5l13lv1w7z_Y"
      },
      "source": [
        "Vamos agora olhar para a variável `label`, que, como está mostrando, indica basicamente a \"posição\" do email na caixa de entrada: se foi um email recebido, se está na pasta de enviados, etc.\n",
        "\n",
        "Paara facilitar nossa vida vamos modificar os valores apresentados no `label` para que tenhamos dois tipos de emails: \"enviados\" e \"inbox\". A lógica é bem simples: se o valor na variável `from` for o seu email pessoal, então é um email enviado, caso contrário, é inbox."
      ]
    },
    {
      "cell_type": "code",
      "execution_count": 52,
      "metadata": {
        "id": "EqxoGLNo7z_Z"
      },
      "outputs": [],
      "source": [
        "df['label'] = df['from'].apply(lambda x:\n",
        "                               'enviado' if x=='paulo.lins@ifpb.edu.br' else 'inbox')"
      ]
    },
    {
      "cell_type": "code",
      "execution_count": 53,
      "metadata": {
        "id": "XjJhF8es7z_a",
        "colab": {
          "base_uri": "https://localhost:8080/"
        },
        "outputId": "683de0ed-8b4f-4e25-b337-00cc565ab528"
      },
      "outputs": [
        {
          "output_type": "execute_result",
          "data": {
            "text/plain": [
              "array(['inbox', 'enviado'], dtype=object)"
            ]
          },
          "metadata": {},
          "execution_count": 53
        }
      ],
      "source": [
        "df['label'].unique()"
      ]
    },
    {
      "cell_type": "markdown",
      "metadata": {
        "id": "owWpgG4q7z_a"
      },
      "source": [
        "Nossa última tarefa é tentar resolver os eventuais problemas relacionados a fuso horário. Para isso, precisamos ajustar os horários para uma _timezone_ relacionada a nossa localização, usando duas bibliotecas Python: `datetime` e `pytz`. Essa parte do processamento é baseada, também, em parte, nesse [tutorial](https://www.alura.com.br/artigos/lidando-com-datas-e-horarios-no-python) e na [documentação do pytz](https://pypi.org/project/pytz/)."
      ]
    },
    {
      "cell_type": "code",
      "execution_count": 54,
      "metadata": {
        "id": "T_sEiv_c7z_b"
      },
      "outputs": [],
      "source": [
        "import datetime\n",
        "import pytz"
      ]
    },
    {
      "cell_type": "markdown",
      "metadata": {
        "id": "Ow-Du0cz7z_b"
      },
      "source": [
        "Precisamos, primeiramente, saber qual é a nossa _timezone_. Para isso, vamos fazer"
      ]
    },
    {
      "cell_type": "code",
      "execution_count": 55,
      "metadata": {
        "id": "7k22mrIy7z_c",
        "colab": {
          "base_uri": "https://localhost:8080/"
        },
        "outputId": "6407a38d-26be-4d3a-8908-fa4190e1375a"
      },
      "outputs": [
        {
          "output_type": "stream",
          "name": "stdout",
          "text": [
            "Africa/Abidjan\n",
            "Africa/Accra\n",
            "Africa/Addis_Ababa\n",
            "Africa/Algiers\n",
            "Africa/Asmara\n",
            "Africa/Asmera\n",
            "Africa/Bamako\n",
            "Africa/Bangui\n",
            "Africa/Banjul\n",
            "Africa/Bissau\n",
            "Africa/Blantyre\n",
            "Africa/Brazzaville\n",
            "Africa/Bujumbura\n",
            "Africa/Cairo\n",
            "Africa/Casablanca\n",
            "Africa/Ceuta\n",
            "Africa/Conakry\n",
            "Africa/Dakar\n",
            "Africa/Dar_es_Salaam\n",
            "Africa/Djibouti\n",
            "Africa/Douala\n",
            "Africa/El_Aaiun\n",
            "Africa/Freetown\n",
            "Africa/Gaborone\n",
            "Africa/Harare\n",
            "Africa/Johannesburg\n",
            "Africa/Juba\n",
            "Africa/Kampala\n",
            "Africa/Khartoum\n",
            "Africa/Kigali\n",
            "Africa/Kinshasa\n",
            "Africa/Lagos\n",
            "Africa/Libreville\n",
            "Africa/Lome\n",
            "Africa/Luanda\n",
            "Africa/Lubumbashi\n",
            "Africa/Lusaka\n",
            "Africa/Malabo\n",
            "Africa/Maputo\n",
            "Africa/Maseru\n",
            "Africa/Mbabane\n",
            "Africa/Mogadishu\n",
            "Africa/Monrovia\n",
            "Africa/Nairobi\n",
            "Africa/Ndjamena\n",
            "Africa/Niamey\n",
            "Africa/Nouakchott\n",
            "Africa/Ouagadougou\n",
            "Africa/Porto-Novo\n",
            "Africa/Sao_Tome\n",
            "Africa/Timbuktu\n",
            "Africa/Tripoli\n",
            "Africa/Tunis\n",
            "Africa/Windhoek\n",
            "America/Adak\n",
            "America/Anchorage\n",
            "America/Anguilla\n",
            "America/Antigua\n",
            "America/Araguaina\n",
            "America/Argentina/Buenos_Aires\n",
            "America/Argentina/Catamarca\n",
            "America/Argentina/ComodRivadavia\n",
            "America/Argentina/Cordoba\n",
            "America/Argentina/Jujuy\n",
            "America/Argentina/La_Rioja\n",
            "America/Argentina/Mendoza\n",
            "America/Argentina/Rio_Gallegos\n",
            "America/Argentina/Salta\n",
            "America/Argentina/San_Juan\n",
            "America/Argentina/San_Luis\n",
            "America/Argentina/Tucuman\n",
            "America/Argentina/Ushuaia\n",
            "America/Aruba\n",
            "America/Asuncion\n",
            "America/Atikokan\n",
            "America/Atka\n",
            "America/Bahia\n",
            "America/Bahia_Banderas\n",
            "America/Barbados\n",
            "America/Belem\n",
            "America/Belize\n",
            "America/Blanc-Sablon\n",
            "America/Boa_Vista\n",
            "America/Bogota\n",
            "America/Boise\n",
            "America/Buenos_Aires\n",
            "America/Cambridge_Bay\n",
            "America/Campo_Grande\n",
            "America/Cancun\n",
            "America/Caracas\n",
            "America/Catamarca\n",
            "America/Cayenne\n",
            "America/Cayman\n",
            "America/Chicago\n",
            "America/Chihuahua\n",
            "America/Ciudad_Juarez\n",
            "America/Coral_Harbour\n",
            "America/Cordoba\n",
            "America/Costa_Rica\n",
            "America/Creston\n",
            "America/Cuiaba\n",
            "America/Curacao\n",
            "America/Danmarkshavn\n",
            "America/Dawson\n",
            "America/Dawson_Creek\n",
            "America/Denver\n",
            "America/Detroit\n",
            "America/Dominica\n",
            "America/Edmonton\n",
            "America/Eirunepe\n",
            "America/El_Salvador\n",
            "America/Ensenada\n",
            "America/Fort_Nelson\n",
            "America/Fort_Wayne\n",
            "America/Fortaleza\n",
            "America/Glace_Bay\n",
            "America/Godthab\n",
            "America/Goose_Bay\n",
            "America/Grand_Turk\n",
            "America/Grenada\n",
            "America/Guadeloupe\n",
            "America/Guatemala\n",
            "America/Guayaquil\n",
            "America/Guyana\n",
            "America/Halifax\n",
            "America/Havana\n",
            "America/Hermosillo\n",
            "America/Indiana/Indianapolis\n",
            "America/Indiana/Knox\n",
            "America/Indiana/Marengo\n",
            "America/Indiana/Petersburg\n",
            "America/Indiana/Tell_City\n",
            "America/Indiana/Vevay\n",
            "America/Indiana/Vincennes\n",
            "America/Indiana/Winamac\n",
            "America/Indianapolis\n",
            "America/Inuvik\n",
            "America/Iqaluit\n",
            "America/Jamaica\n",
            "America/Jujuy\n",
            "America/Juneau\n",
            "America/Kentucky/Louisville\n",
            "America/Kentucky/Monticello\n",
            "America/Knox_IN\n",
            "America/Kralendijk\n",
            "America/La_Paz\n",
            "America/Lima\n",
            "America/Los_Angeles\n",
            "America/Louisville\n",
            "America/Lower_Princes\n",
            "America/Maceio\n",
            "America/Managua\n",
            "America/Manaus\n",
            "America/Marigot\n",
            "America/Martinique\n",
            "America/Matamoros\n",
            "America/Mazatlan\n",
            "America/Mendoza\n",
            "America/Menominee\n",
            "America/Merida\n",
            "America/Metlakatla\n",
            "America/Mexico_City\n",
            "America/Miquelon\n",
            "America/Moncton\n",
            "America/Monterrey\n",
            "America/Montevideo\n",
            "America/Montreal\n",
            "America/Montserrat\n",
            "America/Nassau\n",
            "America/New_York\n",
            "America/Nipigon\n",
            "America/Nome\n",
            "America/Noronha\n",
            "America/North_Dakota/Beulah\n",
            "America/North_Dakota/Center\n",
            "America/North_Dakota/New_Salem\n",
            "America/Nuuk\n",
            "America/Ojinaga\n",
            "America/Panama\n",
            "America/Pangnirtung\n",
            "America/Paramaribo\n",
            "America/Phoenix\n",
            "America/Port-au-Prince\n",
            "America/Port_of_Spain\n",
            "America/Porto_Acre\n",
            "America/Porto_Velho\n",
            "America/Puerto_Rico\n",
            "America/Punta_Arenas\n",
            "America/Rainy_River\n",
            "America/Rankin_Inlet\n",
            "America/Recife\n",
            "America/Regina\n",
            "America/Resolute\n",
            "America/Rio_Branco\n",
            "America/Rosario\n",
            "America/Santa_Isabel\n",
            "America/Santarem\n",
            "America/Santiago\n",
            "America/Santo_Domingo\n",
            "America/Sao_Paulo\n",
            "America/Scoresbysund\n",
            "America/Shiprock\n",
            "America/Sitka\n",
            "America/St_Barthelemy\n",
            "America/St_Johns\n",
            "America/St_Kitts\n",
            "America/St_Lucia\n",
            "America/St_Thomas\n",
            "America/St_Vincent\n",
            "America/Swift_Current\n",
            "America/Tegucigalpa\n",
            "America/Thule\n",
            "America/Thunder_Bay\n",
            "America/Tijuana\n",
            "America/Toronto\n",
            "America/Tortola\n",
            "America/Vancouver\n",
            "America/Virgin\n",
            "America/Whitehorse\n",
            "America/Winnipeg\n",
            "America/Yakutat\n",
            "America/Yellowknife\n",
            "Antarctica/Casey\n",
            "Antarctica/Davis\n",
            "Antarctica/DumontDUrville\n",
            "Antarctica/Macquarie\n",
            "Antarctica/Mawson\n",
            "Antarctica/McMurdo\n",
            "Antarctica/Palmer\n",
            "Antarctica/Rothera\n",
            "Antarctica/South_Pole\n",
            "Antarctica/Syowa\n",
            "Antarctica/Troll\n",
            "Antarctica/Vostok\n",
            "Arctic/Longyearbyen\n",
            "Asia/Aden\n",
            "Asia/Almaty\n",
            "Asia/Amman\n",
            "Asia/Anadyr\n",
            "Asia/Aqtau\n",
            "Asia/Aqtobe\n",
            "Asia/Ashgabat\n",
            "Asia/Ashkhabad\n",
            "Asia/Atyrau\n",
            "Asia/Baghdad\n",
            "Asia/Bahrain\n",
            "Asia/Baku\n",
            "Asia/Bangkok\n",
            "Asia/Barnaul\n",
            "Asia/Beirut\n",
            "Asia/Bishkek\n",
            "Asia/Brunei\n",
            "Asia/Calcutta\n",
            "Asia/Chita\n",
            "Asia/Choibalsan\n",
            "Asia/Chongqing\n",
            "Asia/Chungking\n",
            "Asia/Colombo\n",
            "Asia/Dacca\n",
            "Asia/Damascus\n",
            "Asia/Dhaka\n",
            "Asia/Dili\n",
            "Asia/Dubai\n",
            "Asia/Dushanbe\n",
            "Asia/Famagusta\n",
            "Asia/Gaza\n",
            "Asia/Harbin\n",
            "Asia/Hebron\n",
            "Asia/Ho_Chi_Minh\n",
            "Asia/Hong_Kong\n",
            "Asia/Hovd\n",
            "Asia/Irkutsk\n",
            "Asia/Istanbul\n",
            "Asia/Jakarta\n",
            "Asia/Jayapura\n",
            "Asia/Jerusalem\n",
            "Asia/Kabul\n",
            "Asia/Kamchatka\n",
            "Asia/Karachi\n",
            "Asia/Kashgar\n",
            "Asia/Kathmandu\n",
            "Asia/Katmandu\n",
            "Asia/Khandyga\n",
            "Asia/Kolkata\n",
            "Asia/Krasnoyarsk\n",
            "Asia/Kuala_Lumpur\n",
            "Asia/Kuching\n",
            "Asia/Kuwait\n",
            "Asia/Macao\n",
            "Asia/Macau\n",
            "Asia/Magadan\n",
            "Asia/Makassar\n",
            "Asia/Manila\n",
            "Asia/Muscat\n",
            "Asia/Nicosia\n",
            "Asia/Novokuznetsk\n",
            "Asia/Novosibirsk\n",
            "Asia/Omsk\n",
            "Asia/Oral\n",
            "Asia/Phnom_Penh\n",
            "Asia/Pontianak\n",
            "Asia/Pyongyang\n",
            "Asia/Qatar\n",
            "Asia/Qostanay\n",
            "Asia/Qyzylorda\n",
            "Asia/Rangoon\n",
            "Asia/Riyadh\n",
            "Asia/Saigon\n",
            "Asia/Sakhalin\n",
            "Asia/Samarkand\n",
            "Asia/Seoul\n",
            "Asia/Shanghai\n",
            "Asia/Singapore\n",
            "Asia/Srednekolymsk\n",
            "Asia/Taipei\n",
            "Asia/Tashkent\n",
            "Asia/Tbilisi\n",
            "Asia/Tehran\n",
            "Asia/Tel_Aviv\n",
            "Asia/Thimbu\n",
            "Asia/Thimphu\n",
            "Asia/Tokyo\n",
            "Asia/Tomsk\n",
            "Asia/Ujung_Pandang\n",
            "Asia/Ulaanbaatar\n",
            "Asia/Ulan_Bator\n",
            "Asia/Urumqi\n",
            "Asia/Ust-Nera\n",
            "Asia/Vientiane\n",
            "Asia/Vladivostok\n",
            "Asia/Yakutsk\n",
            "Asia/Yangon\n",
            "Asia/Yekaterinburg\n",
            "Asia/Yerevan\n",
            "Atlantic/Azores\n",
            "Atlantic/Bermuda\n",
            "Atlantic/Canary\n",
            "Atlantic/Cape_Verde\n",
            "Atlantic/Faeroe\n",
            "Atlantic/Faroe\n",
            "Atlantic/Jan_Mayen\n",
            "Atlantic/Madeira\n",
            "Atlantic/Reykjavik\n",
            "Atlantic/South_Georgia\n",
            "Atlantic/St_Helena\n",
            "Atlantic/Stanley\n",
            "Australia/ACT\n",
            "Australia/Adelaide\n",
            "Australia/Brisbane\n",
            "Australia/Broken_Hill\n",
            "Australia/Canberra\n",
            "Australia/Currie\n",
            "Australia/Darwin\n",
            "Australia/Eucla\n",
            "Australia/Hobart\n",
            "Australia/LHI\n",
            "Australia/Lindeman\n",
            "Australia/Lord_Howe\n",
            "Australia/Melbourne\n",
            "Australia/NSW\n",
            "Australia/North\n",
            "Australia/Perth\n",
            "Australia/Queensland\n",
            "Australia/South\n",
            "Australia/Sydney\n",
            "Australia/Tasmania\n",
            "Australia/Victoria\n",
            "Australia/West\n",
            "Australia/Yancowinna\n",
            "Brazil/Acre\n",
            "Brazil/DeNoronha\n",
            "Brazil/East\n",
            "Brazil/West\n",
            "CET\n",
            "CST6CDT\n",
            "Canada/Atlantic\n",
            "Canada/Central\n",
            "Canada/Eastern\n",
            "Canada/Mountain\n",
            "Canada/Newfoundland\n",
            "Canada/Pacific\n",
            "Canada/Saskatchewan\n",
            "Canada/Yukon\n",
            "Chile/Continental\n",
            "Chile/EasterIsland\n",
            "Cuba\n",
            "EET\n",
            "EST\n",
            "EST5EDT\n",
            "Egypt\n",
            "Eire\n",
            "Etc/GMT\n",
            "Etc/GMT+0\n",
            "Etc/GMT+1\n",
            "Etc/GMT+10\n",
            "Etc/GMT+11\n",
            "Etc/GMT+12\n",
            "Etc/GMT+2\n",
            "Etc/GMT+3\n",
            "Etc/GMT+4\n",
            "Etc/GMT+5\n",
            "Etc/GMT+6\n",
            "Etc/GMT+7\n",
            "Etc/GMT+8\n",
            "Etc/GMT+9\n",
            "Etc/GMT-0\n",
            "Etc/GMT-1\n",
            "Etc/GMT-10\n",
            "Etc/GMT-11\n",
            "Etc/GMT-12\n",
            "Etc/GMT-13\n",
            "Etc/GMT-14\n",
            "Etc/GMT-2\n",
            "Etc/GMT-3\n",
            "Etc/GMT-4\n",
            "Etc/GMT-5\n",
            "Etc/GMT-6\n",
            "Etc/GMT-7\n",
            "Etc/GMT-8\n",
            "Etc/GMT-9\n",
            "Etc/GMT0\n",
            "Etc/Greenwich\n",
            "Etc/UCT\n",
            "Etc/UTC\n",
            "Etc/Universal\n",
            "Etc/Zulu\n",
            "Europe/Amsterdam\n",
            "Europe/Andorra\n",
            "Europe/Astrakhan\n",
            "Europe/Athens\n",
            "Europe/Belfast\n",
            "Europe/Belgrade\n",
            "Europe/Berlin\n",
            "Europe/Bratislava\n",
            "Europe/Brussels\n",
            "Europe/Bucharest\n",
            "Europe/Budapest\n",
            "Europe/Busingen\n",
            "Europe/Chisinau\n",
            "Europe/Copenhagen\n",
            "Europe/Dublin\n",
            "Europe/Gibraltar\n",
            "Europe/Guernsey\n",
            "Europe/Helsinki\n",
            "Europe/Isle_of_Man\n",
            "Europe/Istanbul\n",
            "Europe/Jersey\n",
            "Europe/Kaliningrad\n",
            "Europe/Kiev\n",
            "Europe/Kirov\n",
            "Europe/Kyiv\n",
            "Europe/Lisbon\n",
            "Europe/Ljubljana\n",
            "Europe/London\n",
            "Europe/Luxembourg\n",
            "Europe/Madrid\n",
            "Europe/Malta\n",
            "Europe/Mariehamn\n",
            "Europe/Minsk\n",
            "Europe/Monaco\n",
            "Europe/Moscow\n",
            "Europe/Nicosia\n",
            "Europe/Oslo\n",
            "Europe/Paris\n",
            "Europe/Podgorica\n",
            "Europe/Prague\n",
            "Europe/Riga\n",
            "Europe/Rome\n",
            "Europe/Samara\n",
            "Europe/San_Marino\n",
            "Europe/Sarajevo\n",
            "Europe/Saratov\n",
            "Europe/Simferopol\n",
            "Europe/Skopje\n",
            "Europe/Sofia\n",
            "Europe/Stockholm\n",
            "Europe/Tallinn\n",
            "Europe/Tirane\n",
            "Europe/Tiraspol\n",
            "Europe/Ulyanovsk\n",
            "Europe/Uzhgorod\n",
            "Europe/Vaduz\n",
            "Europe/Vatican\n",
            "Europe/Vienna\n",
            "Europe/Vilnius\n",
            "Europe/Volgograd\n",
            "Europe/Warsaw\n",
            "Europe/Zagreb\n",
            "Europe/Zaporozhye\n",
            "Europe/Zurich\n",
            "GB\n",
            "GB-Eire\n",
            "GMT\n",
            "GMT+0\n",
            "GMT-0\n",
            "GMT0\n",
            "Greenwich\n",
            "HST\n",
            "Hongkong\n",
            "Iceland\n",
            "Indian/Antananarivo\n",
            "Indian/Chagos\n",
            "Indian/Christmas\n",
            "Indian/Cocos\n",
            "Indian/Comoro\n",
            "Indian/Kerguelen\n",
            "Indian/Mahe\n",
            "Indian/Maldives\n",
            "Indian/Mauritius\n",
            "Indian/Mayotte\n",
            "Indian/Reunion\n",
            "Iran\n",
            "Israel\n",
            "Jamaica\n",
            "Japan\n",
            "Kwajalein\n",
            "Libya\n",
            "MET\n",
            "MST\n",
            "MST7MDT\n",
            "Mexico/BajaNorte\n",
            "Mexico/BajaSur\n",
            "Mexico/General\n",
            "NZ\n",
            "NZ-CHAT\n",
            "Navajo\n",
            "PRC\n",
            "PST8PDT\n",
            "Pacific/Apia\n",
            "Pacific/Auckland\n",
            "Pacific/Bougainville\n",
            "Pacific/Chatham\n",
            "Pacific/Chuuk\n",
            "Pacific/Easter\n",
            "Pacific/Efate\n",
            "Pacific/Enderbury\n",
            "Pacific/Fakaofo\n",
            "Pacific/Fiji\n",
            "Pacific/Funafuti\n",
            "Pacific/Galapagos\n",
            "Pacific/Gambier\n",
            "Pacific/Guadalcanal\n",
            "Pacific/Guam\n",
            "Pacific/Honolulu\n",
            "Pacific/Johnston\n",
            "Pacific/Kanton\n",
            "Pacific/Kiritimati\n",
            "Pacific/Kosrae\n",
            "Pacific/Kwajalein\n",
            "Pacific/Majuro\n",
            "Pacific/Marquesas\n",
            "Pacific/Midway\n",
            "Pacific/Nauru\n",
            "Pacific/Niue\n",
            "Pacific/Norfolk\n",
            "Pacific/Noumea\n",
            "Pacific/Pago_Pago\n",
            "Pacific/Palau\n",
            "Pacific/Pitcairn\n",
            "Pacific/Pohnpei\n",
            "Pacific/Ponape\n",
            "Pacific/Port_Moresby\n",
            "Pacific/Rarotonga\n",
            "Pacific/Saipan\n",
            "Pacific/Samoa\n",
            "Pacific/Tahiti\n",
            "Pacific/Tarawa\n",
            "Pacific/Tongatapu\n",
            "Pacific/Truk\n",
            "Pacific/Wake\n",
            "Pacific/Wallis\n",
            "Pacific/Yap\n",
            "Poland\n",
            "Portugal\n",
            "ROC\n",
            "ROK\n",
            "Singapore\n",
            "Turkey\n",
            "UCT\n",
            "US/Alaska\n",
            "US/Aleutian\n",
            "US/Arizona\n",
            "US/Central\n",
            "US/East-Indiana\n",
            "US/Eastern\n",
            "US/Hawaii\n",
            "US/Indiana-Starke\n",
            "US/Michigan\n",
            "US/Mountain\n",
            "US/Pacific\n",
            "US/Samoa\n",
            "UTC\n",
            "Universal\n",
            "W-SU\n",
            "WET\n",
            "Zulu\n"
          ]
        }
      ],
      "source": [
        "for tz in pytz.all_timezones: print(tz)"
      ]
    },
    {
      "cell_type": "markdown",
      "metadata": {
        "id": "XLoubff97z_d"
      },
      "source": [
        "Observamos que o mais próximo da gente seria a opção `America/Recife`, por motivos óbvios.\n",
        "\n",
        "Precisamos agora converter os horários para essa _timezone_, e, para isso, usaremos uma função"
      ]
    },
    {
      "cell_type": "code",
      "execution_count": 56,
      "metadata": {
        "id": "pYEFWfb07z_d"
      },
      "outputs": [],
      "source": [
        "def ref_timezone(x): return x.astimezone(pytz.timezone('America/Recife'))"
      ]
    },
    {
      "cell_type": "markdown",
      "metadata": {
        "id": "VUL4wxFu7z_e"
      },
      "source": [
        "E vamos usar essa função para ajustar as datas, na coluna `date`"
      ]
    },
    {
      "cell_type": "code",
      "execution_count": 57,
      "metadata": {
        "id": "9ec6ID1j7z_e"
      },
      "outputs": [],
      "source": [
        "df['date'] = df['date'].apply(lambda x: ref_timezone(x))"
      ]
    },
    {
      "cell_type": "markdown",
      "metadata": {
        "id": "zbpAMDeq7z_f"
      },
      "source": [
        "Aqui temos um probleminha. Quando fizemos a conversão do tipo `object` para `datetime`, lá atrás, o próprio Pandas substitui as datas que possuem algum tipo de erro pelo tipo `NaT`, algo como um `nan` só que para datas. Nesses pontos em que a data é tipo `NaT`, não se consegue fazer a alteração do _timezone_.\n",
        "\n",
        "Nossa saída então é filtrar essa ocorrências e apagá-las.\n",
        "\n",
        "Para nossa sorte, o Pandas nos dá uma colher de chá que já conhecemos: o `dropna`!"
      ]
    },
    {
      "cell_type": "code",
      "execution_count": 58,
      "metadata": {
        "id": "IpU2b3ia7z_f"
      },
      "outputs": [],
      "source": [
        "df.dropna(inplace=True)"
      ]
    },
    {
      "cell_type": "markdown",
      "metadata": {
        "id": "4tJIO21h7z_g"
      },
      "source": [
        "Para confirmar se houve a limpeza, vamos fazer uma inspeção em `date`."
      ]
    },
    {
      "cell_type": "code",
      "execution_count": 59,
      "metadata": {
        "id": "8ZJl-yeq7z_g",
        "colab": {
          "base_uri": "https://localhost:8080/"
        },
        "outputId": "a2de9af8-53f3-431f-e39d-b1fb1d6290d9"
      },
      "outputs": [
        {
          "output_type": "execute_result",
          "data": {
            "text/plain": [
              "<DatetimeArray>\n",
              "['2022-11-03 15:37:18-03:00', '2022-09-24 11:02:08-03:00',\n",
              " '2022-09-27 19:43:26-03:00', '2022-09-27 09:25:05-03:00',\n",
              " '2022-09-25 00:42:41-03:00', '2022-09-19 09:04:20-03:00',\n",
              " '2022-09-26 11:36:53-03:00', '2022-08-25 15:22:29-03:00',\n",
              " '2022-09-29 21:13:22-03:00', '2022-09-03 22:55:49-03:00',\n",
              " ...\n",
              " '2022-08-15 21:25:22-03:00', '2022-06-30 18:07:57-03:00',\n",
              " '2022-06-29 18:07:57-03:00', '2022-05-13 19:23:03-03:00',\n",
              " '2022-06-06 18:05:21-03:00', '2022-09-21 22:27:32-03:00',\n",
              " '2022-09-06 14:53:46-03:00', '2022-08-01 21:17:12-03:00',\n",
              " '2022-08-10 14:32:21-03:00', '2022-06-03 10:38:52-03:00']\n",
              "Length: 580, dtype: datetime64[ns, America/Recife]"
            ]
          },
          "metadata": {},
          "execution_count": 59
        }
      ],
      "source": [
        "df['date'].unique()"
      ]
    },
    {
      "cell_type": "markdown",
      "metadata": {
        "id": "4kxvSW4e7z_h"
      },
      "source": [
        "E nada de `NaT`. Assim,  "
      ]
    },
    {
      "cell_type": "code",
      "execution_count": 60,
      "metadata": {
        "id": "ZeGSJBZC7z_h"
      },
      "outputs": [],
      "source": [
        "df['date'] = df['date'].apply(lambda x: ref_timezone(x))"
      ]
    },
    {
      "cell_type": "code",
      "execution_count": 61,
      "metadata": {
        "id": "7-hkcTg77z_i",
        "colab": {
          "base_uri": "https://localhost:8080/"
        },
        "outputId": "bcda6c79-504c-43c9-e1c3-4739572e32c6"
      },
      "outputs": [
        {
          "output_type": "execute_result",
          "data": {
            "text/plain": [
              "0     2022-11-03 15:37:18-03:00\n",
              "1     2022-09-24 11:02:08-03:00\n",
              "2     2022-09-27 19:43:26-03:00\n",
              "3     2022-09-27 09:25:05-03:00\n",
              "4     2022-09-25 00:42:41-03:00\n",
              "                 ...           \n",
              "578   2022-09-21 22:27:32-03:00\n",
              "579   2022-09-06 14:53:46-03:00\n",
              "580   2022-08-01 21:17:12-03:00\n",
              "581   2022-08-10 14:32:21-03:00\n",
              "582   2022-06-03 10:38:52-03:00\n",
              "Name: date, Length: 583, dtype: datetime64[ns, America/Recife]"
            ]
          },
          "metadata": {},
          "execution_count": 61
        }
      ],
      "source": [
        "df['date']"
      ]
    },
    {
      "cell_type": "markdown",
      "metadata": {
        "id": "_t3B7__07z_j"
      },
      "source": [
        "e não temos mais nenhum erro!"
      ]
    },
    {
      "cell_type": "markdown",
      "metadata": {
        "id": "Es6vZ-7i7z_j"
      },
      "source": [
        "Para facilitar ainda mais nossa vida, nós podemos fracionar essa informação disponível em `date`. Vamos fazer isso criando algumas novas variáveis.\n",
        "\n",
        "A primeira variável será `daysofweek`, na qual colocaremos o dia da semana (segunda, terça, etc.). Para isso, usaremos o método `day_name` do próprio Pandas"
      ]
    },
    {
      "cell_type": "code",
      "execution_count": 62,
      "metadata": {
        "id": "KgvKwpSN7z_k"
      },
      "outputs": [],
      "source": [
        "df['dayofweek'] = df['date'].apply(lambda x: x.day_name())"
      ]
    },
    {
      "cell_type": "code",
      "execution_count": 63,
      "metadata": {
        "id": "BJD9WG-D7z_k",
        "colab": {
          "base_uri": "https://localhost:8080/"
        },
        "outputId": "76d85c8d-2456-46ec-c971-35ad1feb1c99"
      },
      "outputs": [
        {
          "output_type": "execute_result",
          "data": {
            "text/plain": [
              "0       Thursday\n",
              "1       Saturday\n",
              "2        Tuesday\n",
              "3        Tuesday\n",
              "4         Sunday\n",
              "         ...    \n",
              "578    Wednesday\n",
              "579      Tuesday\n",
              "580       Monday\n",
              "581    Wednesday\n",
              "582       Friday\n",
              "Name: dayofweek, Length: 583, dtype: object"
            ]
          },
          "metadata": {},
          "execution_count": 63
        }
      ],
      "source": [
        "df['dayofweek']"
      ]
    },
    {
      "cell_type": "markdown",
      "metadata": {
        "id": "0ibZQkFQ7z_l"
      },
      "source": [
        "e depois vamos transformar a variável `dayofweek` em categórica, para facilitar futuras análises."
      ]
    },
    {
      "cell_type": "code",
      "execution_count": 64,
      "metadata": {
        "id": "Va75DpYt7z_m"
      },
      "outputs": [],
      "source": [
        "df['dayofweek'] = pd.Categorical(df['dayofweek'], categories=[\n",
        "    'Monday', 'Tuesday', 'Wednesday', 'Thursday', 'Friday',\n",
        "    'Saturday', 'Sunday'], ordered=True)"
      ]
    },
    {
      "cell_type": "code",
      "execution_count": 65,
      "metadata": {
        "id": "bytJJvtE7z_m",
        "colab": {
          "base_uri": "https://localhost:8080/"
        },
        "outputId": "fd88a2be-42d1-4c47-dab5-00efcf836890"
      },
      "outputs": [
        {
          "output_type": "stream",
          "name": "stdout",
          "text": [
            "<class 'pandas.core.frame.DataFrame'>\n",
            "RangeIndex: 583 entries, 0 to 582\n",
            "Data columns (total 7 columns):\n",
            " #   Column     Non-Null Count  Dtype                         \n",
            "---  ------     --------------  -----                         \n",
            " 0   subject    583 non-null    object                        \n",
            " 1   from       583 non-null    object                        \n",
            " 2   date       583 non-null    datetime64[ns, America/Recife]\n",
            " 3   to         583 non-null    object                        \n",
            " 4   label      583 non-null    object                        \n",
            " 5   thread     583 non-null    int64                         \n",
            " 6   dayofweek  583 non-null    category                      \n",
            "dtypes: category(1), datetime64[ns, America/Recife](1), int64(1), object(4)\n",
            "memory usage: 28.4+ KB\n"
          ]
        }
      ],
      "source": [
        "df.info()"
      ]
    },
    {
      "cell_type": "markdown",
      "metadata": {
        "id": "FLyzIIgg7z_n"
      },
      "source": [
        "Em seguida, criaremos `timeofday`, que apresentará a hora do dia, usando, para isso"
      ]
    },
    {
      "cell_type": "code",
      "execution_count": 66,
      "metadata": {
        "id": "8sTGQSys7z_n"
      },
      "outputs": [],
      "source": [
        "df['timeofday'] = df['date'].apply(lambda x: x.hour + x.minute/60 + x.second/3600)"
      ]
    },
    {
      "cell_type": "markdown",
      "metadata": {
        "id": "qKX1vLmY7z_o"
      },
      "source": [
        "a variável `year`, que trará o ano do email"
      ]
    },
    {
      "cell_type": "code",
      "execution_count": 67,
      "metadata": {
        "id": "0a9kAzSP7z_o"
      },
      "outputs": [],
      "source": [
        "df['year'] = df['date'].apply(lambda x: x.year)"
      ]
    },
    {
      "cell_type": "markdown",
      "metadata": {
        "id": "8JddFJf27z_p"
      },
      "source": [
        "e a variável `month`, que trará o mês do email"
      ]
    },
    {
      "cell_type": "code",
      "execution_count": 68,
      "metadata": {
        "id": "fSdRNPnw7z_p"
      },
      "outputs": [],
      "source": [
        "df['month'] = df['date'].apply(lambda x: x.month_name())"
      ]
    },
    {
      "cell_type": "markdown",
      "metadata": {
        "id": "M5RwFsTK7z_q"
      },
      "source": [
        "e que também transformaremos em categórica"
      ]
    },
    {
      "cell_type": "code",
      "execution_count": 69,
      "metadata": {
        "id": "REPA_TQ57z_q"
      },
      "outputs": [],
      "source": [
        "df['month'] = pd.Categorical(df['month'], categories=[\n",
        "    'January', 'February', 'March', 'April', 'May', 'June', 'July',\n",
        "    'September', 'October', 'November', 'December'], ordered=True)"
      ]
    },
    {
      "cell_type": "markdown",
      "metadata": {
        "id": "6-vlvEy07z_r"
      },
      "source": [
        "E como separamos todas as informações referentes a data em partes que possam facilitar a análise, não faz mais sentido manter a coluna `date`. Assim,"
      ]
    },
    {
      "cell_type": "code",
      "execution_count": 70,
      "metadata": {
        "id": "XI3KFRro7z_s"
      },
      "outputs": [],
      "source": [
        "df.drop('date', axis=1, inplace=True)"
      ]
    },
    {
      "cell_type": "code",
      "execution_count": 71,
      "metadata": {
        "id": "V8iPGPwT7z_s",
        "colab": {
          "base_uri": "https://localhost:8080/"
        },
        "outputId": "8cf0d7a5-b921-4bf9-ee0e-d39c8730f101"
      },
      "outputs": [
        {
          "output_type": "stream",
          "name": "stdout",
          "text": [
            "<class 'pandas.core.frame.DataFrame'>\n",
            "RangeIndex: 583 entries, 0 to 582\n",
            "Data columns (total 9 columns):\n",
            " #   Column     Non-Null Count  Dtype   \n",
            "---  ------     --------------  -----   \n",
            " 0   subject    583 non-null    object  \n",
            " 1   from       583 non-null    object  \n",
            " 2   to         583 non-null    object  \n",
            " 3   label      583 non-null    object  \n",
            " 4   thread     583 non-null    int64   \n",
            " 5   dayofweek  583 non-null    category\n",
            " 6   timeofday  583 non-null    float64 \n",
            " 7   year       583 non-null    int64   \n",
            " 8   month      454 non-null    category\n",
            "dtypes: category(2), float64(1), int64(2), object(4)\n",
            "memory usage: 33.9+ KB\n"
          ]
        }
      ],
      "source": [
        "df.info()"
      ]
    },
    {
      "cell_type": "markdown",
      "metadata": {
        "id": "nCI4Kdtn7z_t"
      },
      "source": [
        "Por fim, minha sugestão é gravar esse dataframe pré-processado em um arquivo .csv novo. Por que fazer isso? Porque se for necessário fechar o notebook por algum motivo, não será necessário fazer novamente todo o processo que fizemos até aqui.\n",
        "\n",
        "Para fazer isso, usaremos"
      ]
    },
    {
      "cell_type": "code",
      "execution_count": 72,
      "metadata": {
        "id": "nRid37Xv7z_t"
      },
      "outputs": [],
      "source": [
        "df.to_csv('emails_processado.csv')"
      ]
    },
    {
      "cell_type": "markdown",
      "source": [
        "### Questão 1.\n",
        "Quantos emails foram mandados por semana, por mês e por ano, considerando a janela de tempo dos dados baixados?"
      ],
      "metadata": {
        "id": "108kr_Uq9jrJ"
      }
    },
    {
      "cell_type": "code",
      "source": [
        "import matplotlib.pyplot as plt\n",
        "from PIL import Image\n",
        "from wordcloud import WordCloud, STOPWORDS, ImageColorGenerator\n",
        "emails = pd.read_csv('emails_processado.csv')\n",
        "emails['month'].value_counts()"
      ],
      "metadata": {
        "colab": {
          "base_uri": "https://localhost:8080/"
        },
        "id": "Zq2cLpKM98rx",
        "outputId": "37da8840-edab-4ed2-cdb0-0a430ba2693b"
      },
      "execution_count": null,
      "outputs": [
        {
          "output_type": "execute_result",
          "data": {
            "text/plain": [
              "September    141\n",
              "May           76\n",
              "June          74\n",
              "April         55\n",
              "July          54\n",
              "November      24\n",
              "October       21\n",
              "March          9\n",
              "Name: month, dtype: int64"
            ]
          },
          "metadata": {},
          "execution_count": 78
        }
      ]
    },
    {
      "cell_type": "code",
      "source": [
        "emails['year'].value_counts()"
      ],
      "metadata": {
        "colab": {
          "base_uri": "https://localhost:8080/"
        },
        "id": "tgChq06k_cfx",
        "outputId": "85e16739-c9ca-40f8-c47f-53fc4fc3fe32"
      },
      "execution_count": null,
      "outputs": [
        {
          "output_type": "execute_result",
          "data": {
            "text/plain": [
              "2022    583\n",
              "Name: year, dtype: int64"
            ]
          },
          "metadata": {},
          "execution_count": 83
        }
      ]
    },
    {
      "cell_type": "code",
      "source": [
        "semana = emails['month'].value_counts()\n",
        "media_semana = (semana.sum()/29)\n",
        "print('media de emails por semana: ')\n",
        "media_semana"
      ],
      "metadata": {
        "colab": {
          "base_uri": "https://localhost:8080/"
        },
        "id": "bIXP7o0s_e_G",
        "outputId": "4bd882e0-35af-43fc-b9bb-6f6ac6af9ab9"
      },
      "execution_count": null,
      "outputs": [
        {
          "output_type": "stream",
          "name": "stdout",
          "text": [
            "media de emails por semana: \n"
          ]
        },
        {
          "output_type": "execute_result",
          "data": {
            "text/plain": [
              "15.655172413793103"
            ]
          },
          "metadata": {},
          "execution_count": 153
        }
      ]
    },
    {
      "cell_type": "markdown",
      "source": [
        "### Questão 2\n",
        "Há uma variação significativa na quantidade de emails enviados por cada período considerado na questão anterior?\n",
        "\n",
        "R: Sim, a quantidade de emails varia bastante com o passar dos meses."
      ],
      "metadata": {
        "id": "phNFiVvL_3aH"
      }
    },
    {
      "cell_type": "markdown",
      "source": [
        "### Questão 3\n",
        "Existe algum período, dos considerados nas duas questões anteriores, em que o número de\n",
        "emails enviados possa ser considerado um outlier? Você enxerga alguma justificativa para\n",
        "esse período ter esse outlier, caso haja?\n",
        "\n",
        "R: Sim, o mês de Setembro, pois utilizei o email em plataformas online que necessitavam de confirmação, além de notificações de updates e aumento dos informes do ifpb"
      ],
      "metadata": {
        "id": "__3rn3TjAkX1"
      }
    },
    {
      "cell_type": "markdown",
      "source": [
        "### Questão 4\n",
        "\n",
        "Qual é o número médio de e-mails por hora? Essa média varia ao longo da semana?"
      ],
      "metadata": {
        "id": "-4WVp1zdBSex"
      }
    },
    {
      "cell_type": "code",
      "source": [
        "mediadia = (media_semana/7)\n",
        "mediahora = (mediadia/24)\n",
        "print('media de emails por hora: ')\n",
        "mediahora\n"
      ],
      "metadata": {
        "colab": {
          "base_uri": "https://localhost:8080/"
        },
        "id": "yW-kQvs5BmnJ",
        "outputId": "a0fae958-3a87-4a8a-e744-31831e26ddf0"
      },
      "execution_count": null,
      "outputs": [
        {
          "output_type": "stream",
          "name": "stdout",
          "text": [
            "media de emails por hora: \n"
          ]
        },
        {
          "output_type": "execute_result",
          "data": {
            "text/plain": [
              "0.09318555008210182"
            ]
          },
          "metadata": {},
          "execution_count": 154
        }
      ]
    },
    {
      "cell_type": "markdown",
      "source": [
        "### Questão 5\n",
        "\n",
        "Com quem me comunico com mais frequência, por meio de emails? Considere tanto por\n",
        "envio, quanto por recepção de emails;\n"
      ],
      "metadata": {
        "id": "3VhogxQvBYye"
      }
    },
    {
      "cell_type": "code",
      "source": [
        "dt = emails[['from','to']].value_counts()\n",
        "dt"
      ],
      "metadata": {
        "colab": {
          "base_uri": "https://localhost:8080/"
        },
        "id": "pnM_C82aCXO_",
        "outputId": "159a0d4f-8745-4ce6-9fc4-e5310441c3f2"
      },
      "execution_count": null,
      "outputs": [
        {
          "output_type": "execute_result",
          "data": {
            "text/plain": [
              "from                                    to                                       \n",
              "no-reply@classroom.google.com           ribeiro.filho@academico.ifpb.edu.br          123\n",
              "nao-responder@email.ifpb.edu.br         paulo.lins@ifpb.edu.br                        42\n",
              "no-reply@picpay.com                     ribeiro.filho@academico.ifpb.edu.br           33\n",
              "conta@cliente.santander.com.br          ribeiro.filho@academico.ifpb.edu.br           27\n",
              "hello@duolingo.com                      ribeiro.filho@academico.ifpb.edu.br           24\n",
              "                                                                                    ... \n",
              "account-notifications@wolfram.com       ribeiro.filho@academico.ifpb.edu.br            1\n",
              "no-reply+2eb1e244@classroom.google.com  ribeiro.filho@academico.ifpb.edu.br            1\n",
              "no-reply@autodesk.com                   ribeiro.filho@academico.ifpb.edu.br            1\n",
              "no-reply@honeygain.com                  ribeiro.filho@academico.ifpb.edu.br            1\n",
              "verify@twitter.com                      GDR <ribeiro.filho@academico.ifpb.edu.br>      1\n",
              "Length: 84, dtype: int64"
            ]
          },
          "metadata": {},
          "execution_count": 145
        }
      ]
    },
    {
      "cell_type": "markdown",
      "source": [
        "### Questão 6\n",
        "Quais os temas mais comumente tratados nos emails considerados?"
      ],
      "metadata": {
        "id": "lFWBpvYkPgmO"
      }
    },
    {
      "cell_type": "code",
      "source": [
        "text = \" \".join(subject for subject in emails.subject)\n",
        "print (\"Wordcloud das {} palavras econtradas nos emails.\".format(len(text)))\n",
        "stopwords = set(STOPWORDS)\n",
        "stopwords.update([\"UTF\", \"B\", \"Q29tIGdyYW5kZSBhdW1lbnRvIGRlIHRheGEgZGUgZHJvcCwgIk5haGlkYSIgZSAiWW9pbWl5\", \"Q\", \"C3\", \"A26\", \"E2\",\"A6\",\"A7\",\"3A_\",\"8J\",\"ISO\",\"0A\",\"0D\",\"A7a\",\"F0\",\"de\",\"seu\",\"para\",\"em\",\"0A\",\"0D\",\"22Bom_dia\",\"9F\",\"o\",\"A3o\",\"2C_Pessoal\",\"22Pessoal\",\"2E\",\"ao\",\"sua\",\"e\"])\n",
        "mask = np.array(Image.open(\"/content/drive/MyDrive/aiai.svg.png\"))\n",
        "wordcloud = WordCloud(stopwords=stopwords,\n",
        "                      background_color=\"white\",\n",
        "                      mode=\"RGBA\", max_words=1000,\n",
        "                      mask=mask).generate(text)\n",
        "image_colors = ImageColorGenerator(mask)\n",
        "plt.figure(figsize=[7,7])\n",
        "plt.imshow(wordcloud.recolor(color_func=image_colors), interpolation=\"bilinear\")\n",
        "plt.axis(\"off\")\n",
        "plt.savefig(\"wordcloud.png\", format=\"png\")\n",
        "plt.show()"
      ],
      "metadata": {
        "colab": {
          "base_uri": "https://localhost:8080/",
          "height": 428
        },
        "id": "JyZYmXTJPol8",
        "outputId": "e6ee6480-8cd2-4666-c022-f6b227a17144"
      },
      "execution_count": null,
      "outputs": [
        {
          "output_type": "stream",
          "name": "stdout",
          "text": [
            "Wordcloud das 40756 palavras econtradas nos emails.\n"
          ]
        },
        {
          "output_type": "display_data",
          "data": {
            "text/plain": [
              "<Figure size 504x504 with 1 Axes>"
            ],
            "image/png": "[encoded data removed]"
          },
          "metadata": {
            "needs_background": "light"
          }
        }
      ]
    },
    {
      "cell_type": "markdown",
      "source": [
        "###Questões extras"
      ],
      "metadata": {
        "id": "_m0lNuUpOcwB"
      }
    }
  ],
  "metadata": {
    "colab": {
      "provenance": [],
      "collapsed_sections": [
        "h5Q-PJ5f7z_B"
      ],
      "include_colab_link": true
    },
    "kernelspec": {
      "display_name": "Python 3 (ipykernel)",
      "language": "python",
      "name": "python3"
    },
    "language_info": {
      "codemirror_mode": {
        "name": "ipython",
        "version": 3
      },
      "file_extension": ".py",
      "mimetype": "text/x-python",
      "name": "python",
      "nbconvert_exporter": "python",
      "pygments_lexer": "ipython3",
      "version": "3.9.7"
    }
  },
  "nbformat": 4,
  "nbformat_minor": 0
}